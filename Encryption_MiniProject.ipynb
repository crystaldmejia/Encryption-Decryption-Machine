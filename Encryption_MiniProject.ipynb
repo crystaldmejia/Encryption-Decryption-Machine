{
 "cells": [
  {
   "cell_type": "code",
   "execution_count": 1,
   "metadata": {},
   "outputs": [],
   "source": [
    "def encryption ():\n",
    "    \n",
    "    \"\"\"\n",
    "    Take user inputted message and convert it to a cipher.\n",
    "    \n",
    "    Arguments:\n",
    "    None.\n",
    "    \n",
    "    Output:\n",
    "    `encryption`: A list of integers that represent the encrypted message\n",
    "    \n",
    "    \"\"\"\n",
    "    \n",
    "    # Create the RSA key pair\n",
    "    p = 13\n",
    "    q = 17\n",
    "    public_key_n = p * q\n",
    "    phi = (p-1) * (q-1)\n",
    "    \n",
    "    public_key_e = 5\n",
    "    i = 2\n",
    "    \n",
    "    private_key = int((i * phi + 1)/public_key_e)\n",
    "\n",
    "    # Get message input from the user and convert to all caps\n",
    "    text = input(\"Enter the message you want to encrypt: \")\n",
    "    text_upper = text.upper()\n",
    "    \n",
    "    # Create a list with the letters from the message converted to cipher\n",
    "    encryption = []\n",
    "    for letter in text_upper:\n",
    "        cipher = (ord(letter) ** public_key_e) % public_key_n\n",
    "        encryption.append(cipher)\n",
    "    print(encryption)"
   ]
  },
  {
   "cell_type": "code",
   "execution_count": 2,
   "metadata": {},
   "outputs": [
    {
     "name": "stdout",
     "output_type": "stream",
     "text": [
      "Enter the message you want to encrypt: Hello! This is a test.\n",
      "[89, 205, 111, 111, 27, 50, 2, 67, 89, 99, 70, 2, 99, 70, 2, 182, 2, 67, 205, 70, 67, 37]\n"
     ]
    }
   ],
   "source": [
    "encryption()"
   ]
  },
  {
   "cell_type": "markdown",
   "metadata": {},
   "source": [
    "# Code for Random Numbers"
   ]
  },
  {
   "cell_type": "markdown",
   "metadata": {},
   "source": [
    "Code that creates an RSA key pair using random numbers:\n",
    "\n",
    "from sympy import randprime\n",
    "from random import randint\n",
    "from math import gcd\n",
    "\n",
    "def key_pair():\n",
    "    p = randprime(13,97)\n",
    "    q = randprime(17,97)\n",
    "    public_n = p * q\n",
    "    phi = (p-1) * (q-1)\n",
    "    \n",
    "    public_e = randint(1,phi)\n",
    "    if (gcd(phi, public_e) == 1):\n",
    "        public_e\n",
    "    else:\n",
    "         public_e = randint(1,phi)\n",
    "    i = 2\n",
    "    private_key = int((i * phi + 1)/public_e)\n",
    "    \n",
    "    return p,q,public_n,public_e,private_key"
   ]
  }
 ],
 "metadata": {
  "kernelspec": {
   "display_name": "Python 3",
   "language": "python",
   "name": "python3"
  },
  "language_info": {
   "codemirror_mode": {
    "name": "ipython",
    "version": 3
   },
   "file_extension": ".py",
   "mimetype": "text/x-python",
   "name": "python",
   "nbconvert_exporter": "python",
   "pygments_lexer": "ipython3",
   "version": "3.6.7"
  }
 },
 "nbformat": 4,
 "nbformat_minor": 2
}
