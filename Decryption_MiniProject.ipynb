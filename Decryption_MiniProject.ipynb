{
 "cells": [
  {
   "cell_type": "code",
   "execution_count": 1,
   "metadata": {},
   "outputs": [],
   "source": [
    "def decryption():\n",
    "    \n",
    "    \"\"\"\n",
    "    Take user inputted cipher and convert it to a text message.\n",
    "    \n",
    "    Arguments:\n",
    "    None.\n",
    "    \n",
    "    Output:\n",
    "    `message_decrypt`: A string that represent the decrypted cipher\n",
    "    \n",
    "    \"\"\"\n",
    "    \n",
    "    # Create the RSA key pair\n",
    "    p = 13\n",
    "    q = 17\n",
    "    public_key_n = p * q\n",
    "    phi = (p-1) * (q-1)\n",
    "    \n",
    "    public_key_e = 5\n",
    "    i = 2\n",
    "    \n",
    "    private_key = int((i * phi + 1)/public_key_e)\n",
    "    \n",
    "    # Get cipher input from the user - input is string, output is list of integers\n",
    "    cipher = input(\"Enter the message you want to decrypt:\").split(\",\")\n",
    "    cipher = [int(i) for i in cipher]\n",
    "    \n",
    "    \n",
    "    # Take the cipher and convert it to decrypted values\n",
    "    decrypt_num = []\n",
    "    for index in cipher:\n",
    "        value = (index ** private_key) % public_key_n\n",
    "        decrypt_num.append(value)\n",
    "    \n",
    "    # Convert the decrypted values to letters - output is list of letters\n",
    "    letters = []\n",
    "    for index in decrypt_num:\n",
    "        letter_decrypt = chr(index)\n",
    "        letters.append(letter_decrypt)\n",
    "    \n",
    "    # Combine the letters into a final message - output is string\n",
    "    message_decrypt = \"\"\n",
    "    message_decrypt = message_decrypt.join(letters)\n",
    "    \n",
    "    print(message_decrypt)"
   ]
  },
  {
   "cell_type": "code",
   "execution_count": 3,
   "metadata": {},
   "outputs": [
    {
     "name": "stdout",
     "output_type": "stream",
     "text": [
      "Enter the message you want to decrypt:89, 205, 111, 111, 27, 50, 2, 67, 89, 99, 70, 2, 99, 70, 2, 182, 2, 67, 205, 70, 67, 37\n"
     ]
    },
    {
     "data": {
      "text/plain": [
       "'HELLO! THIS IS A TEST.'"
      ]
     },
     "execution_count": 3,
     "metadata": {},
     "output_type": "execute_result"
    }
   ],
   "source": [
    "decryption()"
   ]
  },
  {
   "cell_type": "code",
   "execution_count": null,
   "metadata": {},
   "outputs": [],
   "source": []
  }
 ],
 "metadata": {
  "kernelspec": {
   "display_name": "Python 3",
   "language": "python",
   "name": "python3"
  },
  "language_info": {
   "codemirror_mode": {
    "name": "ipython",
    "version": 3
   },
   "file_extension": ".py",
   "mimetype": "text/x-python",
   "name": "python",
   "nbconvert_exporter": "python",
   "pygments_lexer": "ipython3",
   "version": "3.8.8"
  }
 },
 "nbformat": 4,
 "nbformat_minor": 2
}
